{
 "cells": [
  {
   "cell_type": "code",
   "execution_count": null,
   "id": "58c1f28f",
   "metadata": {},
   "outputs": [],
   "source": [
    "pip install psycopg2"
   ]
  },
  {
   "cell_type": "code",
   "execution_count": 21,
   "id": "2e6183cb",
   "metadata": {
    "scrolled": true
   },
   "outputs": [],
   "source": [
    "import requests\n",
    "import json\n",
    "import pandas as pd\n",
    "import csv\n",
    "import psycopg2\n"
   ]
  },
  {
   "cell_type": "markdown",
   "id": "b9752766",
   "metadata": {},
   "source": [
    "# Extraction layer"
   ]
  },
  {
   "cell_type": "code",
   "execution_count": 22,
   "id": "55c5197d",
   "metadata": {},
   "outputs": [],
   "source": [
    "url = \"https://realty-mole-property-api.p.rapidapi.com/randomProperties\"\n",
    "\n",
    "querystring = {\"limit\":\"100000\"}\n",
    "\n",
    "headers = {\n",
    "\t\"x-rapidapi-key\": \"64114f9223mshf6ee7f915c727eep1a5d9djsnef3a9270cef8\",\n",
    "\t\"x-rapidapi-host\": \"realty-mole-property-api.p.rapidapi.com\"\n",
    "}\n",
    "\n",
    "response = requests.get(url, headers=headers, params=querystring)\n",
    "\n",
    "# print(response.json())\n",
    "\n",
    "data = response.json()\n",
    "\n",
    "# save data to json file\n",
    "filename = 'PropertyRecords.json'\n",
    "with open(filename, 'w') as file:\n",
    "    json.dump(data, file, indent=4)"
   ]
  },
  {
   "cell_type": "code",
   "execution_count": 23,
   "id": "557585a2",
   "metadata": {},
   "outputs": [],
   "source": [
    "# Read into a DataFrame\n",
    "\n",
    "propertyrecords_df = pd.read_json('PropertyRecords.json')"
   ]
  },
  {
   "cell_type": "code",
   "execution_count": 26,
   "id": "d7cb3491",
   "metadata": {},
   "outputs": [
    {
     "name": "stdout",
     "output_type": "stream",
     "text": [
      "<class 'pandas.core.frame.DataFrame'>\n",
      "RangeIndex: 500 entries, 0 to 499\n",
      "Data columns (total 27 columns):\n",
      " #   Column            Non-Null Count  Dtype  \n",
      "---  ------            --------------  -----  \n",
      " 0   addressLine1      500 non-null    object \n",
      " 1   city              500 non-null    object \n",
      " 2   state             500 non-null    object \n",
      " 3   zipCode           500 non-null    int64  \n",
      " 4   formattedAddress  500 non-null    object \n",
      " 5   assessorID        500 non-null    object \n",
      " 6   bedrooms          500 non-null    float64\n",
      " 7   county            500 non-null    object \n",
      " 8   legalDescription  500 non-null    object \n",
      " 9   ownerOccupied     500 non-null    float64\n",
      " 10  squareFootage     500 non-null    float64\n",
      " 11  subdivision       500 non-null    object \n",
      " 12  yearBuilt         500 non-null    float64\n",
      " 13  bathrooms         500 non-null    float64\n",
      " 14  lotSize           500 non-null    float64\n",
      " 15  propertyType      500 non-null    object \n",
      " 16  lastSaleDate      500 non-null    object \n",
      " 17  features          500 non-null    object \n",
      " 18  taxAssessment     500 non-null    object \n",
      " 19  propertyTaxes     500 non-null    object \n",
      " 20  owner             500 non-null    object \n",
      " 21  id                500 non-null    object \n",
      " 22  longitude         500 non-null    float64\n",
      " 23  latitude          500 non-null    float64\n",
      " 24  addressLine2      500 non-null    object \n",
      " 25  lastSalePrice     500 non-null    float64\n",
      " 26  zoning            500 non-null    object \n",
      "dtypes: float64(9), int64(1), object(17)\n",
      "memory usage: 105.6+ KB\n"
     ]
    }
   ],
   "source": [
    "propertyrecords_df.info()"
   ]
  },
  {
   "cell_type": "code",
   "execution_count": 25,
   "id": "77ad5720",
   "metadata": {},
   "outputs": [],
   "source": [
    "# Transformation layer\n",
    "# 1st step - convert dictionary column to string\n",
    "propertyrecords_df['features'] = propertyrecords_df['features'].apply(json.dumps)\n",
    "\n",
    "# 2nd step - replace NaN values with appropriate defaults or remove  row/columns as necessary\n",
    "propertyrecords_df.fillna({\n",
    "    'assessorID': 'Unknown',\n",
    "    'legalDescription': 'Not available',\n",
    "    'squareFootage': 0,\n",
    "    'subdivision': 'Not available',\n",
    "    'yearBuilt': 0,\n",
    "    'bathrooms': 0,\n",
    "    'lotSize': 0,\n",
    "    'propertyType': 'Unknown',\n",
    "    'lastSalePrice': 0,\n",
    "    'lastSaleDate': 'Not available',\n",
    "    'features': 'None',\n",
    "    'taxAssessment': 'Not available',\n",
    "    'owner': 'Unknown',\n",
    "    'propertyTaxes': 'Not available',\n",
    "    'bedrooms': 0,\n",
    "    'ownerOccupied': 0,\n",
    "    'zoning': 'Unknown',\n",
    "    'addressLine2': 'Not available',\n",
    "    'formattedAddres': 'Not available',\n",
    "    'county': 'Not available',\n",
    "}, inplace = True)"
   ]
  },
  {
   "cell_type": "code",
   "execution_count": 27,
   "id": "23e7f8fc",
   "metadata": {},
   "outputs": [],
   "source": [
    "#Create the Fact Table\n",
    "fact_columns = ['addressLine1', 'city', 'state', 'zipCode', 'formattedAddress', 'squareFootage', 'yearBuilt', 'bathrooms', 'bedrooms', 'lotSize', 'propertyType', 'longitude', 'latitude']\n",
    "fact_table = propertyrecords_df[fact_columns]"
   ]
  },
  {
   "cell_type": "code",
   "execution_count": 28,
   "id": "e36fe992",
   "metadata": {},
   "outputs": [],
   "source": [
    "# Create Location Dimension\n",
    "location_dim = propertyrecords_df[['addressLine1', 'city', 'state', 'zipCode', 'county', 'longitude', 'latitude']].drop_duplicates().reset_index(drop=True)\n",
    "location_dim.index.name = 'location_id'"
   ]
  },
  {
   "cell_type": "code",
   "execution_count": 29,
   "id": "88d5747a",
   "metadata": {},
   "outputs": [],
   "source": [
    "# Create Sales dimension\n",
    "sales_dim = propertyrecords_df[['lastSalePrice', 'lastSaleDate']].drop_duplicates().reset_index(drop=True)\n",
    "sales_dim.index.name = 'sales_id'"
   ]
  },
  {
   "cell_type": "code",
   "execution_count": 30,
   "id": "539534ed",
   "metadata": {},
   "outputs": [],
   "source": [
    "# Create Property Features dimension\n",
    "features_dim = propertyrecords_df[['features', 'propertyType', 'zoning']].drop_duplicates().reset_index(drop=True)\n",
    "features_dim.index.name = 'features_id'"
   ]
  },
  {
   "cell_type": "code",
   "execution_count": 31,
   "id": "c6108bb1",
   "metadata": {},
   "outputs": [],
   "source": [
    "# saving the created fact and dimension table to csv file\n",
    "fact_table.to_csv('property_fact.csv', index = False)\n",
    "location_dim.to_csv('location_dimension.csv', index = True)\n",
    "sales_dim.to_csv('sales_dimension.csv', index = True)\n",
    "features_dim.to_csv('features_dimension.csv', index = True)"
   ]
  },
  {
   "cell_type": "code",
   "execution_count": 32,
   "id": "0d067721",
   "metadata": {},
   "outputs": [],
   "source": [
    "# Loading Layer\n",
    "# develop a function to connect to pgadmin\n",
    "\n",
    "def get_db_connection():\n",
    "    connection = psycopg2.connect(\n",
    "        host = 'localhost',\n",
    "        database = 'postgres',\n",
    "        user = 'postgres',\n",
    "        password = 'Favour@8282'\n",
    "    )\n",
    "    return connection\n",
    "\n",
    "conn = get_db_connection()"
   ]
  },
  {
   "cell_type": "code",
   "execution_count": 12,
   "id": "72bdc03c",
   "metadata": {},
   "outputs": [
    {
     "name": "stdout",
     "output_type": "stream",
     "text": [
      "<class 'pandas.core.frame.DataFrame'>\n",
      "RangeIndex: 362 entries, 0 to 361\n",
      "Data columns (total 3 columns):\n",
      " #   Column        Non-Null Count  Dtype \n",
      "---  ------        --------------  ----- \n",
      " 0   features      362 non-null    object\n",
      " 1   propertyType  362 non-null    object\n",
      " 2   zoning        362 non-null    object\n",
      "dtypes: object(3)\n",
      "memory usage: 8.6+ KB\n"
     ]
    }
   ],
   "source": [
    "features_dim.info()"
   ]
  },
  {
   "cell_type": "code",
   "execution_count": 33,
   "id": "fec10d89",
   "metadata": {},
   "outputs": [],
   "source": [
    "# Creating Tables\n",
    "\n",
    "def create_tables():\n",
    "    conn = get_db_connection()\n",
    "    cursor = conn.cursor()\n",
    "    create_table_query = '''CREATE SCHEMA IF NOT EXISTS zipoestate;\n",
    "                            \n",
    "                            DROP TABLE IF EXISTS zipoestate.fact_table;\n",
    "                            DROP TABLE IF EXISTS zipoestate.location_dim;\n",
    "                            DROP TABLE IF EXISTS zipoestate.sales_dim;\n",
    "                            DROP TABLE IF EXISTS zipoestate.features_dim;\n",
    "                            \n",
    "                            CREATE TABLE zipoestate.fact_table(\n",
    "                                addressLine1 VARCHAR(255),\n",
    "                                city varchar(100),\n",
    "                                state VARCHAR(50),\n",
    "                                zipCode INTEGER,\n",
    "                                formattedAddress VARCHAR(255),\n",
    "                                squareFootage FLOAT,\n",
    "                                yearBuilt FLOAT,\n",
    "                                bathrooms FLOAT,\n",
    "                                bedrooms FLOAT,\n",
    "                                lotSize FLOAT,\n",
    "                                propertyType VARCHAR(100),\n",
    "                                longitude FLOAT,\n",
    "                                latitude FLOAT\n",
    "                            );\n",
    "                            \n",
    "                            CREATE TABLE zipoestate.location_dim(\n",
    "                                location_id SERIAL PRIMARY KEY,\n",
    "                                addressLine1 VARCHAR(255),\n",
    "                                city VARCHAR(255),\n",
    "                                state VARCHAR(50),\n",
    "                                zipCode INTEGER,\n",
    "                                county VARCHAR(100),\n",
    "                                longitude FLOAT,\n",
    "                                latitude FLOAT\n",
    "                            );\n",
    "                            \n",
    "                            CREATE TABLE zipoestate.sales_dim(\n",
    "                                sales_id SERIAL PRIMARY KEY,                                \n",
    "                                lastSalePrice FLOAT,\n",
    "                                lastSaleDate DATE\n",
    "                            );\n",
    "                            \n",
    "                            CREATE TABLE zipoestate.features_dim(\n",
    "                                features_id SERIAL PRIMARY KEY,\n",
    "                                features TEXT,\n",
    "                                propertyType VARCHAR(100),\n",
    "                                zoning VARCHAR(100)\n",
    "                            );\n",
    "                        '''\n",
    "    cursor.execute(create_table_query)\n",
    "    conn.commit() \n",
    "    cursor.close()\n",
    "    conn.close()\n",
    "\n",
    "    \n",
    "create_tables()"
   ]
  },
  {
   "cell_type": "code",
   "execution_count": 34,
   "id": "283ad348",
   "metadata": {},
   "outputs": [],
   "source": [
    "# create a function to load the csv data into the database\n",
    "\n",
    "def load_data_from_csv_to_table(csv_path, table_name):\n",
    "    conn = get_db_connection()\n",
    "    cursor = conn.cursor()\n",
    "    with open(csv_path, 'r', encoding = 'utf-8') as file:\n",
    "        reader = csv.reader(file)\n",
    "        next(reader) # Skip the header row\n",
    "        for row in reader:\n",
    "            placeholders = ', '.join(['%s'] * len(row))\n",
    "            query = f'INSERT INTO {table_name} VALUES ({placeholders});'\n",
    "            cursor.execute(query, row)\n",
    "    conn.commit() \n",
    "    cursor.close()\n",
    "    conn.close()  \n",
    "            "
   ]
  },
  {
   "cell_type": "code",
   "execution_count": 35,
   "id": "38b3347a",
   "metadata": {},
   "outputs": [],
   "source": [
    "# fact table\n",
    "fact_csv_path = r'C:\\Users\\Acer\\Zipco Real Estate\\property_fact.csv'\n",
    "load_data_from_csv_to_table(fact_csv_path, 'zipoestate.fact_table')"
   ]
  },
  {
   "cell_type": "code",
   "execution_count": 36,
   "id": "2ac856f1",
   "metadata": {},
   "outputs": [],
   "source": [
    "# location dimension table\n",
    "location_csv_path = r'C:\\Users\\Acer\\Zipco Real Estate\\location_dimension.csv'\n",
    "load_data_from_csv_to_table(location_csv_path, 'zipoestate.location_dim')"
   ]
  },
  {
   "cell_type": "code",
   "execution_count": 17,
   "id": "413e09f9",
   "metadata": {},
   "outputs": [
    {
     "name": "stdout",
     "output_type": "stream",
     "text": [
      "<class 'pandas.core.frame.DataFrame'>\n",
      "RangeIndex: 326 entries, 0 to 325\n",
      "Data columns (total 2 columns):\n",
      " #   Column         Non-Null Count  Dtype  \n",
      "---  ------         --------------  -----  \n",
      " 0   lastSalePrice  326 non-null    float64\n",
      " 1   lastSaleDate   326 non-null    object \n",
      "dtypes: float64(1), object(1)\n",
      "memory usage: 5.2+ KB\n"
     ]
    }
   ],
   "source": [
    "sales_dim.info()"
   ]
  },
  {
   "cell_type": "code",
   "execution_count": 37,
   "id": "cb842659",
   "metadata": {},
   "outputs": [],
   "source": [
    "# features dimension table\n",
    "features_csv_path = r'C:\\Users\\Acer\\Zipco Real Estate\\features_dimension.csv'\n",
    "load_data_from_csv_to_table(features_csv_path, 'zipoestate.features_dim')"
   ]
  },
  {
   "cell_type": "code",
   "execution_count": 38,
   "id": "9970a74f",
   "metadata": {},
   "outputs": [],
   "source": [
    "# Code to ignore the Not Available in the sales dimension table\n",
    "\n",
    "# create a function to load the csv data into the database\n",
    "\n",
    "def load_data_from_csv_to_sales_table(csv_path, table_name):\n",
    "    conn = get_db_connection()\n",
    "    cursor = conn.cursor()\n",
    "    \n",
    "    # define the columns name in sales_dim table\n",
    "    sale_dim_columns = ['sales_id', 'lastSalePrice', 'lastSaleDate']\n",
    "    \n",
    "    with open(csv_path, 'r', encoding = 'utf-8') as file:\n",
    "        reader = csv.reader(file)\n",
    "        next(reader) # Skip the header row\n",
    "        \n",
    "        for row in reader:\n",
    "            # Convert empty strings (or 'Not Available' in the date to None(Null in SQL)\n",
    "            # row = [None if (cell == '' or cell == 'Not available') and col_name == 'lastSaledate' else cell for cell, col_name in zip(row, sale_dim_columns)]\n",
    "            row = [None if col_name == 'lastSaleDate' and (cell == '' or cell.lower() == 'not available') else cell for cell, col_name in zip(row, sale_dim_columns)]\n",
    "            placeholders = ', '.join(['%s'] * len(row))\n",
    "            query = f'INSERT INTO {table_name} VALUES ({placeholders});'\n",
    "            cursor.execute(query, row)\n",
    "    conn.commit() \n",
    "    cursor.close()\n",
    "    conn.close()  \n",
    "    \n",
    "\n",
    "\n",
    "# sales dimension table\n",
    "\n",
    "sales_csv_path = r'C:\\Users\\Acer\\Zipco Real Estate\\sales_dimension.csv'\n",
    "load_data_from_csv_to_sales_table(sales_csv_path, 'zipoestate.sales_dim')\n",
    "\n"
   ]
  },
  {
   "cell_type": "code",
   "execution_count": 39,
   "id": "be111d7f",
   "metadata": {},
   "outputs": [
    {
     "name": "stdout",
     "output_type": "stream",
     "text": [
      "All data has been loaded successfully into the respective schema and tables\n"
     ]
    }
   ],
   "source": [
    "print('All data has been loaded successfully into the respective schema and tables')"
   ]
  },
  {
   "cell_type": "code",
   "execution_count": null,
   "id": "21f35e64",
   "metadata": {},
   "outputs": [],
   "source": []
  }
 ],
 "metadata": {
  "kernelspec": {
   "display_name": "Python 3 (ipykernel)",
   "language": "python",
   "name": "python3"
  },
  "language_info": {
   "codemirror_mode": {
    "name": "ipython",
    "version": 3
   },
   "file_extension": ".py",
   "mimetype": "text/x-python",
   "name": "python",
   "nbconvert_exporter": "python",
   "pygments_lexer": "ipython3",
   "version": "3.9.13"
  }
 },
 "nbformat": 4,
 "nbformat_minor": 5
}
